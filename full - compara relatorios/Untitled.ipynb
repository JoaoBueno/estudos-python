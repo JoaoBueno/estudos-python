{
 "cells": [
  {
   "cell_type": "code",
   "execution_count": 21,
   "metadata": {},
   "outputs": [],
   "source": [
    "import pandas as pd\n",
    "import numpy as np\n",
    "\n",
    "df_C = pd.read_csv('b-co.csv', sep='|', encoding='cp1252', decimal=',')\n",
    "df_F = pd.read_csv('b-fi-v.csv', sep='|', encoding='cp1252', decimal=',')"
   ]
  },
  {
   "cell_type": "code",
   "execution_count": 12,
   "metadata": {},
   "outputs": [
    {
     "data": {
      "text/plain": [
       "NUMERO            int64\n",
       "TIPO             object\n",
       "NUMERON           int64\n",
       "CLIENTE          object\n",
       "VRBRUTO          object\n",
       "DESCONTO         object\n",
       "VALORTROCA       object\n",
       "DEVOLUCAO        object\n",
       "VALORLIQUIDO     object\n",
       "COMISSAO         object\n",
       "COMISSAOEXTRA    object\n",
       "VALORORIG        object\n",
       "DREAL            object\n",
       "dtype: object"
      ]
     },
     "execution_count": 12,
     "metadata": {},
     "output_type": "execute_result"
    }
   ],
   "source": [
    "df_C.dtypes"
   ]
  },
  {
   "cell_type": "code",
   "execution_count": 13,
   "metadata": {},
   "outputs": [
    {
     "data": {
      "text/plain": [
       "EMPRESA     int64\n",
       "ESPECIE    object\n",
       "SERIE      object\n",
       "NUMERO      int64\n",
       "PARCELA     int64\n",
       "VALOR      object\n",
       "dtype: object"
      ]
     },
     "execution_count": 13,
     "metadata": {},
     "output_type": "execute_result"
    }
   ],
   "source": [
    "df_F.dtypes"
   ]
  },
  {
   "cell_type": "code",
   "execution_count": 22,
   "metadata": {},
   "outputs": [],
   "source": [
    "dfc = pd.DataFrame()\n",
    "dff = pd.DataFrame()\n",
    "\n",
    "df_C['VALORLIQUIDO'] = [x.replace('.', '') for x in df_C['VALORLIQUIDO']]\n",
    "df_C['VALORLIQUIDO'] = [x.replace(',', '.') for x in df_C['VALORLIQUIDO']]\n",
    "df_C['VALORLIQUIDO'] = [x.replace(' ', '0') for x in df_C['VALORLIQUIDO']]\n",
    "df_C['VALORLIQUIDO'] = df_C['VALORLIQUIDO'].astype(float)\n",
    "\n",
    "df_F['VALOR'] = [x.replace('.', '') for x in df_F['VALOR']]\n",
    "df_F['VALOR'] = [x.replace(',', '.') for x in df_F['VALOR']]\n",
    "df_F['VALOR'] = [x.replace(' ', '0') for x in df_F['VALOR']]\n",
    "df_F['VALOR'] = df_F['VALOR'].astype(float)\n",
    "\n",
    "dfc['NUMERO'] = df_C['NUMERON']\n",
    "dfc['VALOR'] = df_C['VALORLIQUIDO']\n",
    "\n",
    "dff['NUMERO'] = df_F['NUMERO']\n",
    "dff['VALOR'] = df_F['VALOR']"
   ]
  },
  {
   "cell_type": "code",
   "execution_count": 23,
   "metadata": {},
   "outputs": [
    {
     "ename": "NameError",
     "evalue": "name 'dataframe_difference' is not defined",
     "output_type": "error",
     "traceback": [
      "\u001b[1;31m---------------------------------------------------------------------------\u001b[0m",
      "\u001b[1;31mNameError\u001b[0m                                 Traceback (most recent call last)",
      "\u001b[1;32m<ipython-input-23-89c1f737c4bb>\u001b[0m in \u001b[0;36m<module>\u001b[1;34m\u001b[0m\n\u001b[1;32m----> 1\u001b[1;33m \u001b[0mdataframe_difference\u001b[0m\u001b[1;33m(\u001b[0m\u001b[0mdfc\u001b[0m\u001b[1;33m,\u001b[0m \u001b[0mdff\u001b[0m\u001b[1;33m)\u001b[0m\u001b[1;33m\u001b[0m\u001b[1;33m\u001b[0m\u001b[0m\n\u001b[0m",
      "\u001b[1;31mNameError\u001b[0m: name 'dataframe_difference' is not defined"
     ]
    }
   ],
   "source": [
    "dataframe_difference(dfc, dff)"
   ]
  },
  {
   "cell_type": "code",
   "execution_count": 17,
   "metadata": {},
   "outputs": [
    {
     "data": {
      "text/html": [
       "<div>\n",
       "<style scoped>\n",
       "    .dataframe tbody tr th:only-of-type {\n",
       "        vertical-align: middle;\n",
       "    }\n",
       "\n",
       "    .dataframe tbody tr th {\n",
       "        vertical-align: top;\n",
       "    }\n",
       "\n",
       "    .dataframe thead th {\n",
       "        text-align: right;\n",
       "    }\n",
       "</style>\n",
       "<table border=\"1\" class=\"dataframe\">\n",
       "  <thead>\n",
       "    <tr style=\"text-align: right;\">\n",
       "      <th></th>\n",
       "      <th>NUMERO</th>\n",
       "      <th>VALOR</th>\n",
       "    </tr>\n",
       "  </thead>\n",
       "  <tbody>\n",
       "    <tr>\n",
       "      <th>0</th>\n",
       "      <td>59677</td>\n",
       "      <td>712.00</td>\n",
       "    </tr>\n",
       "    <tr>\n",
       "      <th>1</th>\n",
       "      <td>490871</td>\n",
       "      <td>115.04</td>\n",
       "    </tr>\n",
       "    <tr>\n",
       "      <th>2</th>\n",
       "      <td>490891</td>\n",
       "      <td>140.00</td>\n",
       "    </tr>\n",
       "    <tr>\n",
       "      <th>3</th>\n",
       "      <td>490849</td>\n",
       "      <td>2075.33</td>\n",
       "    </tr>\n",
       "    <tr>\n",
       "      <th>4</th>\n",
       "      <td>490851</td>\n",
       "      <td>1400.00</td>\n",
       "    </tr>\n",
       "    <tr>\n",
       "      <th>...</th>\n",
       "      <td>...</td>\n",
       "      <td>...</td>\n",
       "    </tr>\n",
       "    <tr>\n",
       "      <th>674</th>\n",
       "      <td>490947</td>\n",
       "      <td>100.00</td>\n",
       "    </tr>\n",
       "    <tr>\n",
       "      <th>675</th>\n",
       "      <td>490960</td>\n",
       "      <td>2520.00</td>\n",
       "    </tr>\n",
       "    <tr>\n",
       "      <th>676</th>\n",
       "      <td>490970</td>\n",
       "      <td>739.71</td>\n",
       "    </tr>\n",
       "    <tr>\n",
       "      <th>677</th>\n",
       "      <td>490961</td>\n",
       "      <td>118.32</td>\n",
       "    </tr>\n",
       "    <tr>\n",
       "      <th>678</th>\n",
       "      <td>490827</td>\n",
       "      <td>177.06</td>\n",
       "    </tr>\n",
       "  </tbody>\n",
       "</table>\n",
       "<p>679 rows × 2 columns</p>\n",
       "</div>"
      ],
      "text/plain": [
       "     NUMERO    VALOR\n",
       "0     59677   712.00\n",
       "1    490871   115.04\n",
       "2    490891   140.00\n",
       "3    490849  2075.33\n",
       "4    490851  1400.00\n",
       "..      ...      ...\n",
       "674  490947   100.00\n",
       "675  490960  2520.00\n",
       "676  490970   739.71\n",
       "677  490961   118.32\n",
       "678  490827   177.06\n",
       "\n",
       "[679 rows x 2 columns]"
      ]
     },
     "execution_count": 17,
     "metadata": {},
     "output_type": "execute_result"
    }
   ],
   "source": [
    "dff"
   ]
  },
  {
   "cell_type": "code",
   "execution_count": null,
   "metadata": {},
   "outputs": [],
   "source": []
  }
 ],
 "metadata": {
  "kernelspec": {
   "display_name": "Python 3",
   "language": "python",
   "name": "python3"
  },
  "language_info": {
   "codemirror_mode": {
    "name": "ipython",
    "version": 3
   },
   "file_extension": ".py",
   "mimetype": "text/x-python",
   "name": "python",
   "nbconvert_exporter": "python",
   "pygments_lexer": "ipython3",
   "version": "3.7.4"
  }
 },
 "nbformat": 4,
 "nbformat_minor": 2
}
